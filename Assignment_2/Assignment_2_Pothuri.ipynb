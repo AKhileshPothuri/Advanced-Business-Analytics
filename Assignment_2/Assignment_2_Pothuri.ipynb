{
 "cells": [
  {
   "cell_type": "code",
   "execution_count": 1,
   "id": "a21aa9c3",
   "metadata": {
    "ExecuteTime": {
     "end_time": "2023-02-13T04:51:40.258466Z",
     "start_time": "2023-02-13T04:51:38.398962Z"
    }
   },
   "outputs": [],
   "source": [
    "import pandas as pd\n",
    "import numpy as np\n",
    "from statsmodels.stats.outliers_influence import variance_inflation_factor\n",
    "from sklearn.model_selection import train_test_split\n",
    "import statsmodels.api as sm\n",
    "from sklearn.metrics import confusion_matrix\n",
    "from sklearn.metrics import roc_curve\n",
    "from sklearn.metrics import roc_auc_score\n",
    "from matplotlib import pyplot as plt\n",
    "from sklearn import tree\n",
    "from sklearn.tree import export_text\n",
    "import seaborn as sns\n",
    "\n",
    "from sklearn.ensemble import RandomForestClassifier\n",
    "from sklearn import svm\n",
    "from sklearn.preprocessing import StandardScaler\n",
    "from sklearn.model_selection import GridSearchCV"
   ]
  },
  {
   "cell_type": "code",
   "execution_count": 2,
   "id": "394b8738",
   "metadata": {
    "ExecuteTime": {
     "end_time": "2023-02-13T04:51:40.264656Z",
     "start_time": "2023-02-13T04:51:40.259703Z"
    }
   },
   "outputs": [],
   "source": [
    "ap_df = pd.read_csv(\"BostonHousing.csv\")"
   ]
  },
  {
   "cell_type": "code",
   "execution_count": 3,
   "id": "2e476714",
   "metadata": {
    "ExecuteTime": {
     "end_time": "2023-02-13T04:51:40.270196Z",
     "start_time": "2023-02-13T04:51:40.265637Z"
    }
   },
   "outputs": [
    {
     "data": {
      "text/plain": [
       "CRIM         0\n",
       "ZN           0\n",
       "INDUS        0\n",
       "CHAS         0\n",
       "NOX          0\n",
       "RM           0\n",
       "AGE          0\n",
       "DIS          0\n",
       "RAD          0\n",
       "TAX          0\n",
       "PTRATIO      0\n",
       "LSTAT        0\n",
       "MEDV         0\n",
       "CAT. MEDV    0\n",
       "dtype: int64"
      ]
     },
     "execution_count": 3,
     "metadata": {},
     "output_type": "execute_result"
    }
   ],
   "source": [
    "ap_df.isna().sum()"
   ]
  },
  {
   "cell_type": "code",
   "execution_count": 4,
   "id": "b973e7ff",
   "metadata": {
    "ExecuteTime": {
     "end_time": "2023-02-13T04:51:40.295717Z",
     "start_time": "2023-02-13T04:51:40.272048Z"
    }
   },
   "outputs": [
    {
     "data": {
      "text/html": [
       "<div>\n",
       "<style scoped>\n",
       "    .dataframe tbody tr th:only-of-type {\n",
       "        vertical-align: middle;\n",
       "    }\n",
       "\n",
       "    .dataframe tbody tr th {\n",
       "        vertical-align: top;\n",
       "    }\n",
       "\n",
       "    .dataframe thead th {\n",
       "        text-align: right;\n",
       "    }\n",
       "</style>\n",
       "<table border=\"1\" class=\"dataframe\">\n",
       "  <thead>\n",
       "    <tr style=\"text-align: right;\">\n",
       "      <th></th>\n",
       "      <th>CRIM</th>\n",
       "      <th>ZN</th>\n",
       "      <th>INDUS</th>\n",
       "      <th>CHAS</th>\n",
       "      <th>NOX</th>\n",
       "      <th>RM</th>\n",
       "      <th>AGE</th>\n",
       "      <th>DIS</th>\n",
       "      <th>RAD</th>\n",
       "      <th>TAX</th>\n",
       "      <th>PTRATIO</th>\n",
       "      <th>LSTAT</th>\n",
       "      <th>MEDV</th>\n",
       "      <th>CAT. MEDV</th>\n",
       "    </tr>\n",
       "  </thead>\n",
       "  <tbody>\n",
       "    <tr>\n",
       "      <th>count</th>\n",
       "      <td>506.000000</td>\n",
       "      <td>506.000000</td>\n",
       "      <td>506.000000</td>\n",
       "      <td>506.000000</td>\n",
       "      <td>506.000000</td>\n",
       "      <td>506.000000</td>\n",
       "      <td>506.000000</td>\n",
       "      <td>506.000000</td>\n",
       "      <td>506.000000</td>\n",
       "      <td>506.000000</td>\n",
       "      <td>506.000000</td>\n",
       "      <td>506.000000</td>\n",
       "      <td>506.000000</td>\n",
       "      <td>506.000000</td>\n",
       "    </tr>\n",
       "    <tr>\n",
       "      <th>mean</th>\n",
       "      <td>3.613524</td>\n",
       "      <td>11.363636</td>\n",
       "      <td>11.136779</td>\n",
       "      <td>0.069170</td>\n",
       "      <td>0.554695</td>\n",
       "      <td>6.284634</td>\n",
       "      <td>68.574901</td>\n",
       "      <td>3.795043</td>\n",
       "      <td>9.549407</td>\n",
       "      <td>408.237154</td>\n",
       "      <td>18.455534</td>\n",
       "      <td>12.653063</td>\n",
       "      <td>22.532806</td>\n",
       "      <td>0.166008</td>\n",
       "    </tr>\n",
       "    <tr>\n",
       "      <th>std</th>\n",
       "      <td>8.601545</td>\n",
       "      <td>23.322453</td>\n",
       "      <td>6.860353</td>\n",
       "      <td>0.253994</td>\n",
       "      <td>0.115878</td>\n",
       "      <td>0.702617</td>\n",
       "      <td>28.148861</td>\n",
       "      <td>2.105710</td>\n",
       "      <td>8.707259</td>\n",
       "      <td>168.537116</td>\n",
       "      <td>2.164946</td>\n",
       "      <td>7.141062</td>\n",
       "      <td>9.197104</td>\n",
       "      <td>0.372456</td>\n",
       "    </tr>\n",
       "    <tr>\n",
       "      <th>min</th>\n",
       "      <td>0.006320</td>\n",
       "      <td>0.000000</td>\n",
       "      <td>0.460000</td>\n",
       "      <td>0.000000</td>\n",
       "      <td>0.385000</td>\n",
       "      <td>3.561000</td>\n",
       "      <td>2.900000</td>\n",
       "      <td>1.129600</td>\n",
       "      <td>1.000000</td>\n",
       "      <td>187.000000</td>\n",
       "      <td>12.600000</td>\n",
       "      <td>1.730000</td>\n",
       "      <td>5.000000</td>\n",
       "      <td>0.000000</td>\n",
       "    </tr>\n",
       "    <tr>\n",
       "      <th>25%</th>\n",
       "      <td>0.082045</td>\n",
       "      <td>0.000000</td>\n",
       "      <td>5.190000</td>\n",
       "      <td>0.000000</td>\n",
       "      <td>0.449000</td>\n",
       "      <td>5.885500</td>\n",
       "      <td>45.025000</td>\n",
       "      <td>2.100175</td>\n",
       "      <td>4.000000</td>\n",
       "      <td>279.000000</td>\n",
       "      <td>17.400000</td>\n",
       "      <td>6.950000</td>\n",
       "      <td>17.025000</td>\n",
       "      <td>0.000000</td>\n",
       "    </tr>\n",
       "    <tr>\n",
       "      <th>50%</th>\n",
       "      <td>0.256510</td>\n",
       "      <td>0.000000</td>\n",
       "      <td>9.690000</td>\n",
       "      <td>0.000000</td>\n",
       "      <td>0.538000</td>\n",
       "      <td>6.208500</td>\n",
       "      <td>77.500000</td>\n",
       "      <td>3.207450</td>\n",
       "      <td>5.000000</td>\n",
       "      <td>330.000000</td>\n",
       "      <td>19.050000</td>\n",
       "      <td>11.360000</td>\n",
       "      <td>21.200000</td>\n",
       "      <td>0.000000</td>\n",
       "    </tr>\n",
       "    <tr>\n",
       "      <th>75%</th>\n",
       "      <td>3.677083</td>\n",
       "      <td>12.500000</td>\n",
       "      <td>18.100000</td>\n",
       "      <td>0.000000</td>\n",
       "      <td>0.624000</td>\n",
       "      <td>6.623500</td>\n",
       "      <td>94.075000</td>\n",
       "      <td>5.188425</td>\n",
       "      <td>24.000000</td>\n",
       "      <td>666.000000</td>\n",
       "      <td>20.200000</td>\n",
       "      <td>16.955000</td>\n",
       "      <td>25.000000</td>\n",
       "      <td>0.000000</td>\n",
       "    </tr>\n",
       "    <tr>\n",
       "      <th>max</th>\n",
       "      <td>88.976200</td>\n",
       "      <td>100.000000</td>\n",
       "      <td>27.740000</td>\n",
       "      <td>1.000000</td>\n",
       "      <td>0.871000</td>\n",
       "      <td>8.780000</td>\n",
       "      <td>100.000000</td>\n",
       "      <td>12.126500</td>\n",
       "      <td>24.000000</td>\n",
       "      <td>711.000000</td>\n",
       "      <td>22.000000</td>\n",
       "      <td>37.970000</td>\n",
       "      <td>50.000000</td>\n",
       "      <td>1.000000</td>\n",
       "    </tr>\n",
       "  </tbody>\n",
       "</table>\n",
       "</div>"
      ],
      "text/plain": [
       "             CRIM          ZN       INDUS        CHAS         NOX          RM  \\\n",
       "count  506.000000  506.000000  506.000000  506.000000  506.000000  506.000000   \n",
       "mean     3.613524   11.363636   11.136779    0.069170    0.554695    6.284634   \n",
       "std      8.601545   23.322453    6.860353    0.253994    0.115878    0.702617   \n",
       "min      0.006320    0.000000    0.460000    0.000000    0.385000    3.561000   \n",
       "25%      0.082045    0.000000    5.190000    0.000000    0.449000    5.885500   \n",
       "50%      0.256510    0.000000    9.690000    0.000000    0.538000    6.208500   \n",
       "75%      3.677083   12.500000   18.100000    0.000000    0.624000    6.623500   \n",
       "max     88.976200  100.000000   27.740000    1.000000    0.871000    8.780000   \n",
       "\n",
       "              AGE         DIS         RAD         TAX     PTRATIO       LSTAT  \\\n",
       "count  506.000000  506.000000  506.000000  506.000000  506.000000  506.000000   \n",
       "mean    68.574901    3.795043    9.549407  408.237154   18.455534   12.653063   \n",
       "std     28.148861    2.105710    8.707259  168.537116    2.164946    7.141062   \n",
       "min      2.900000    1.129600    1.000000  187.000000   12.600000    1.730000   \n",
       "25%     45.025000    2.100175    4.000000  279.000000   17.400000    6.950000   \n",
       "50%     77.500000    3.207450    5.000000  330.000000   19.050000   11.360000   \n",
       "75%     94.075000    5.188425   24.000000  666.000000   20.200000   16.955000   \n",
       "max    100.000000   12.126500   24.000000  711.000000   22.000000   37.970000   \n",
       "\n",
       "             MEDV   CAT. MEDV  \n",
       "count  506.000000  506.000000  \n",
       "mean    22.532806    0.166008  \n",
       "std      9.197104    0.372456  \n",
       "min      5.000000    0.000000  \n",
       "25%     17.025000    0.000000  \n",
       "50%     21.200000    0.000000  \n",
       "75%     25.000000    0.000000  \n",
       "max     50.000000    1.000000  "
      ]
     },
     "execution_count": 4,
     "metadata": {},
     "output_type": "execute_result"
    }
   ],
   "source": [
    "ap_df.describe()"
   ]
  },
  {
   "cell_type": "code",
   "execution_count": 5,
   "id": "9c511687",
   "metadata": {
    "ExecuteTime": {
     "end_time": "2023-02-13T04:51:40.305298Z",
     "start_time": "2023-02-13T04:51:40.298006Z"
    }
   },
   "outputs": [
    {
     "name": "stdout",
     "output_type": "stream",
     "text": [
      "<class 'pandas.core.frame.DataFrame'>\n",
      "RangeIndex: 506 entries, 0 to 505\n",
      "Data columns (total 14 columns):\n",
      " #   Column     Non-Null Count  Dtype  \n",
      "---  ------     --------------  -----  \n",
      " 0   CRIM       506 non-null    float64\n",
      " 1   ZN         506 non-null    float64\n",
      " 2   INDUS      506 non-null    float64\n",
      " 3   CHAS       506 non-null    int64  \n",
      " 4   NOX        506 non-null    float64\n",
      " 5   RM         506 non-null    float64\n",
      " 6   AGE        506 non-null    float64\n",
      " 7   DIS        506 non-null    float64\n",
      " 8   RAD        506 non-null    int64  \n",
      " 9   TAX        506 non-null    int64  \n",
      " 10  PTRATIO    506 non-null    float64\n",
      " 11  LSTAT      506 non-null    float64\n",
      " 12  MEDV       506 non-null    float64\n",
      " 13  CAT. MEDV  506 non-null    int64  \n",
      "dtypes: float64(10), int64(4)\n",
      "memory usage: 55.5 KB\n"
     ]
    }
   ],
   "source": [
    "ap_df.info()"
   ]
  },
  {
   "cell_type": "code",
   "execution_count": 6,
   "id": "cd565207",
   "metadata": {
    "ExecuteTime": {
     "end_time": "2023-02-13T04:51:40.314704Z",
     "start_time": "2023-02-13T04:51:40.306318Z"
    }
   },
   "outputs": [
    {
     "data": {
      "text/html": [
       "<div>\n",
       "<style scoped>\n",
       "    .dataframe tbody tr th:only-of-type {\n",
       "        vertical-align: middle;\n",
       "    }\n",
       "\n",
       "    .dataframe tbody tr th {\n",
       "        vertical-align: top;\n",
       "    }\n",
       "\n",
       "    .dataframe thead th {\n",
       "        text-align: right;\n",
       "    }\n",
       "</style>\n",
       "<table border=\"1\" class=\"dataframe\">\n",
       "  <thead>\n",
       "    <tr style=\"text-align: right;\">\n",
       "      <th></th>\n",
       "      <th>CRIM</th>\n",
       "      <th>ZN</th>\n",
       "      <th>INDUS</th>\n",
       "      <th>CHAS</th>\n",
       "      <th>NOX</th>\n",
       "      <th>RM</th>\n",
       "      <th>AGE</th>\n",
       "      <th>DIS</th>\n",
       "      <th>RAD</th>\n",
       "      <th>TAX</th>\n",
       "      <th>PTRATIO</th>\n",
       "      <th>LSTAT</th>\n",
       "      <th>MEDV</th>\n",
       "      <th>CAT. MEDV</th>\n",
       "    </tr>\n",
       "  </thead>\n",
       "  <tbody>\n",
       "    <tr>\n",
       "      <th>0</th>\n",
       "      <td>0.00632</td>\n",
       "      <td>18.0</td>\n",
       "      <td>2.31</td>\n",
       "      <td>0</td>\n",
       "      <td>0.538</td>\n",
       "      <td>6.575</td>\n",
       "      <td>65.2</td>\n",
       "      <td>4.0900</td>\n",
       "      <td>1</td>\n",
       "      <td>296</td>\n",
       "      <td>15.3</td>\n",
       "      <td>4.98</td>\n",
       "      <td>24.0</td>\n",
       "      <td>0</td>\n",
       "    </tr>\n",
       "    <tr>\n",
       "      <th>1</th>\n",
       "      <td>0.02731</td>\n",
       "      <td>0.0</td>\n",
       "      <td>7.07</td>\n",
       "      <td>0</td>\n",
       "      <td>0.469</td>\n",
       "      <td>6.421</td>\n",
       "      <td>78.9</td>\n",
       "      <td>4.9671</td>\n",
       "      <td>2</td>\n",
       "      <td>242</td>\n",
       "      <td>17.8</td>\n",
       "      <td>9.14</td>\n",
       "      <td>21.6</td>\n",
       "      <td>0</td>\n",
       "    </tr>\n",
       "    <tr>\n",
       "      <th>2</th>\n",
       "      <td>0.02729</td>\n",
       "      <td>0.0</td>\n",
       "      <td>7.07</td>\n",
       "      <td>0</td>\n",
       "      <td>0.469</td>\n",
       "      <td>7.185</td>\n",
       "      <td>61.1</td>\n",
       "      <td>4.9671</td>\n",
       "      <td>2</td>\n",
       "      <td>242</td>\n",
       "      <td>17.8</td>\n",
       "      <td>4.03</td>\n",
       "      <td>34.7</td>\n",
       "      <td>1</td>\n",
       "    </tr>\n",
       "    <tr>\n",
       "      <th>3</th>\n",
       "      <td>0.03237</td>\n",
       "      <td>0.0</td>\n",
       "      <td>2.18</td>\n",
       "      <td>0</td>\n",
       "      <td>0.458</td>\n",
       "      <td>6.998</td>\n",
       "      <td>45.8</td>\n",
       "      <td>6.0622</td>\n",
       "      <td>3</td>\n",
       "      <td>222</td>\n",
       "      <td>18.7</td>\n",
       "      <td>2.94</td>\n",
       "      <td>33.4</td>\n",
       "      <td>1</td>\n",
       "    </tr>\n",
       "    <tr>\n",
       "      <th>4</th>\n",
       "      <td>0.06905</td>\n",
       "      <td>0.0</td>\n",
       "      <td>2.18</td>\n",
       "      <td>0</td>\n",
       "      <td>0.458</td>\n",
       "      <td>7.147</td>\n",
       "      <td>54.2</td>\n",
       "      <td>6.0622</td>\n",
       "      <td>3</td>\n",
       "      <td>222</td>\n",
       "      <td>18.7</td>\n",
       "      <td>5.33</td>\n",
       "      <td>36.2</td>\n",
       "      <td>1</td>\n",
       "    </tr>\n",
       "  </tbody>\n",
       "</table>\n",
       "</div>"
      ],
      "text/plain": [
       "      CRIM    ZN  INDUS  CHAS    NOX     RM   AGE     DIS  RAD  TAX  PTRATIO  \\\n",
       "0  0.00632  18.0   2.31     0  0.538  6.575  65.2  4.0900    1  296     15.3   \n",
       "1  0.02731   0.0   7.07     0  0.469  6.421  78.9  4.9671    2  242     17.8   \n",
       "2  0.02729   0.0   7.07     0  0.469  7.185  61.1  4.9671    2  242     17.8   \n",
       "3  0.03237   0.0   2.18     0  0.458  6.998  45.8  6.0622    3  222     18.7   \n",
       "4  0.06905   0.0   2.18     0  0.458  7.147  54.2  6.0622    3  222     18.7   \n",
       "\n",
       "   LSTAT  MEDV  CAT. MEDV  \n",
       "0   4.98  24.0          0  \n",
       "1   9.14  21.6          0  \n",
       "2   4.03  34.7          1  \n",
       "3   2.94  33.4          1  \n",
       "4   5.33  36.2          1  "
      ]
     },
     "execution_count": 6,
     "metadata": {},
     "output_type": "execute_result"
    }
   ],
   "source": [
    "ap_df.head()"
   ]
  },
  {
   "cell_type": "code",
   "execution_count": 7,
   "id": "88dcef9e",
   "metadata": {
    "ExecuteTime": {
     "end_time": "2023-02-13T04:51:40.324043Z",
     "start_time": "2023-02-13T04:51:40.315725Z"
    }
   },
   "outputs": [
    {
     "data": {
      "text/html": [
       "<div>\n",
       "<style scoped>\n",
       "    .dataframe tbody tr th:only-of-type {\n",
       "        vertical-align: middle;\n",
       "    }\n",
       "\n",
       "    .dataframe tbody tr th {\n",
       "        vertical-align: top;\n",
       "    }\n",
       "\n",
       "    .dataframe thead th {\n",
       "        text-align: right;\n",
       "    }\n",
       "</style>\n",
       "<table border=\"1\" class=\"dataframe\">\n",
       "  <thead>\n",
       "    <tr style=\"text-align: right;\">\n",
       "      <th></th>\n",
       "      <th>CRIM</th>\n",
       "      <th>ZN</th>\n",
       "      <th>INDUS</th>\n",
       "      <th>CHAS</th>\n",
       "      <th>NOX</th>\n",
       "      <th>RM</th>\n",
       "      <th>AGE</th>\n",
       "      <th>DIS</th>\n",
       "      <th>RAD</th>\n",
       "      <th>TAX</th>\n",
       "      <th>PTRATIO</th>\n",
       "      <th>LSTAT</th>\n",
       "      <th>CAT. MEDV</th>\n",
       "    </tr>\n",
       "  </thead>\n",
       "  <tbody>\n",
       "    <tr>\n",
       "      <th>0</th>\n",
       "      <td>0.00632</td>\n",
       "      <td>18.0</td>\n",
       "      <td>2.31</td>\n",
       "      <td>0</td>\n",
       "      <td>0.538</td>\n",
       "      <td>6.575</td>\n",
       "      <td>65.2</td>\n",
       "      <td>4.0900</td>\n",
       "      <td>1</td>\n",
       "      <td>296</td>\n",
       "      <td>15.3</td>\n",
       "      <td>4.98</td>\n",
       "      <td>0</td>\n",
       "    </tr>\n",
       "    <tr>\n",
       "      <th>1</th>\n",
       "      <td>0.02731</td>\n",
       "      <td>0.0</td>\n",
       "      <td>7.07</td>\n",
       "      <td>0</td>\n",
       "      <td>0.469</td>\n",
       "      <td>6.421</td>\n",
       "      <td>78.9</td>\n",
       "      <td>4.9671</td>\n",
       "      <td>2</td>\n",
       "      <td>242</td>\n",
       "      <td>17.8</td>\n",
       "      <td>9.14</td>\n",
       "      <td>0</td>\n",
       "    </tr>\n",
       "    <tr>\n",
       "      <th>2</th>\n",
       "      <td>0.02729</td>\n",
       "      <td>0.0</td>\n",
       "      <td>7.07</td>\n",
       "      <td>0</td>\n",
       "      <td>0.469</td>\n",
       "      <td>7.185</td>\n",
       "      <td>61.1</td>\n",
       "      <td>4.9671</td>\n",
       "      <td>2</td>\n",
       "      <td>242</td>\n",
       "      <td>17.8</td>\n",
       "      <td>4.03</td>\n",
       "      <td>1</td>\n",
       "    </tr>\n",
       "    <tr>\n",
       "      <th>3</th>\n",
       "      <td>0.03237</td>\n",
       "      <td>0.0</td>\n",
       "      <td>2.18</td>\n",
       "      <td>0</td>\n",
       "      <td>0.458</td>\n",
       "      <td>6.998</td>\n",
       "      <td>45.8</td>\n",
       "      <td>6.0622</td>\n",
       "      <td>3</td>\n",
       "      <td>222</td>\n",
       "      <td>18.7</td>\n",
       "      <td>2.94</td>\n",
       "      <td>1</td>\n",
       "    </tr>\n",
       "    <tr>\n",
       "      <th>4</th>\n",
       "      <td>0.06905</td>\n",
       "      <td>0.0</td>\n",
       "      <td>2.18</td>\n",
       "      <td>0</td>\n",
       "      <td>0.458</td>\n",
       "      <td>7.147</td>\n",
       "      <td>54.2</td>\n",
       "      <td>6.0622</td>\n",
       "      <td>3</td>\n",
       "      <td>222</td>\n",
       "      <td>18.7</td>\n",
       "      <td>5.33</td>\n",
       "      <td>1</td>\n",
       "    </tr>\n",
       "  </tbody>\n",
       "</table>\n",
       "</div>"
      ],
      "text/plain": [
       "      CRIM    ZN  INDUS  CHAS    NOX     RM   AGE     DIS  RAD  TAX  PTRATIO  \\\n",
       "0  0.00632  18.0   2.31     0  0.538  6.575  65.2  4.0900    1  296     15.3   \n",
       "1  0.02731   0.0   7.07     0  0.469  6.421  78.9  4.9671    2  242     17.8   \n",
       "2  0.02729   0.0   7.07     0  0.469  7.185  61.1  4.9671    2  242     17.8   \n",
       "3  0.03237   0.0   2.18     0  0.458  6.998  45.8  6.0622    3  222     18.7   \n",
       "4  0.06905   0.0   2.18     0  0.458  7.147  54.2  6.0622    3  222     18.7   \n",
       "\n",
       "   LSTAT  CAT. MEDV  \n",
       "0   4.98          0  \n",
       "1   9.14          0  \n",
       "2   4.03          1  \n",
       "3   2.94          1  \n",
       "4   5.33          1  "
      ]
     },
     "execution_count": 7,
     "metadata": {},
     "output_type": "execute_result"
    }
   ],
   "source": [
    "ap_df = ap_df.drop(columns=['MEDV'])\n",
    "ap_df.head()"
   ]
  },
  {
   "cell_type": "code",
   "execution_count": 8,
   "id": "258f6c40",
   "metadata": {
    "ExecuteTime": {
     "end_time": "2023-02-13T04:51:40.879119Z",
     "start_time": "2023-02-13T04:51:40.325593Z"
    }
   },
   "outputs": [
    {
     "data": {
      "image/png": "[encoded data removed]",
      "text/plain": [
       "<Figure size 1224x72 with 1 Axes>"
      ]
     },
     "metadata": {
      "needs_background": "light"
     },
     "output_type": "display_data"
    },
    {
     "data": {
      "image/png": "[encoded data removed]",
      "text/plain": [
       "<Figure size 1224x72 with 1 Axes>"
      ]
     },
     "metadata": {
      "needs_background": "light"
     },
     "output_type": "display_data"
    },
    {
     "data": {
      "image/png": "[encoded data removed]",
      "text/plain": [
       "<Figure size 1224x72 with 1 Axes>"
      ]
     },
     "metadata": {
      "needs_background": "light"
     },
     "output_type": "display_data"
    },
    {
     "data": {
      "image/png": "[encoded data removed]",
      "text/plain": [
       "<Figure size 1224x72 with 1 Axes>"
      ]
     },
     "metadata": {
      "needs_background": "light"
     },
     "output_type": "display_data"
    },
    {
     "data": {
      "image/png": "[encoded data removed]",
      "text/plain": [
       "<Figure size 1224x72 with 1 Axes>"
      ]
     },
     "metadata": {
      "needs_background": "light"
     },
     "output_type": "display_data"
    },
    {
     "data": {
      "image/png": "[encoded data removed]",
      "text/plain": [
       "<Figure size 1224x72 with 1 Axes>"
      ]
     },
     "metadata": {
      "needs_background": "light"
     },
     "output_type": "display_data"
    },
    {
     "data": {
      "image/png": "[encoded data removed]",
      "text/plain": [
       "<Figure size 1224x72 with 1 Axes>"
      ]
     },
     "metadata": {
      "needs_background": "light"
     },
     "output_type": "display_data"
    },
    {
     "data": {
      "image/png": "[encoded data removed]",
      "text/plain": [
       "<Figure size 1224x72 with 1 Axes>"
      ]
     },
     "metadata": {
      "needs_background": "light"
     },
     "output_type": "display_data"
    },
    {
     "data": {
      "image/png": "[encoded data removed]",
      "text/plain": [
       "<Figure size 1224x72 with 1 Axes>"
      ]
     },
     "metadata": {
      "needs_background": "light"
     },
     "output_type": "display_data"
    },
    {
     "data": {
      "image/png": "[encoded data removed]",
      "text/plain": [
       "<Figure size 1224x72 with 1 Axes>"
      ]
     },
     "metadata": {
      "needs_background": "light"
     },
     "output_type": "display_data"
    },
    {
     "data": {
      "image/png": "[encoded data removed]",
      "text/plain": [
       "<Figure size 1224x72 with 1 Axes>"
      ]
     },
     "metadata": {
      "needs_background": "light"
     },
     "output_type": "display_data"
    },
    {
     "data": {
      "image/png": "[encoded data removed]",
      "text/plain": [
       "<Figure size 1224x72 with 1 Axes>"
      ]
     },
     "metadata": {
      "needs_background": "light"
     },
     "output_type": "display_data"
    },
    {
     "data": {
      "image/png": "[encoded data removed]",
      "text/plain": [
       "<Figure size 1224x72 with 1 Axes>"
      ]
     },
     "metadata": {
      "needs_background": "light"
     },
     "output_type": "display_data"
    }
   ],
   "source": [
    "for column in ap_df:\n",
    "        plt.figure(figsize=(17,1))\n",
    "        sns.boxplot(data=ap_df, x=column)"
   ]
  },
  {
   "cell_type": "code",
   "execution_count": 9,
   "id": "ffe719c8",
   "metadata": {
    "ExecuteTime": {
     "end_time": "2023-02-13T04:51:41.822689Z",
     "start_time": "2023-02-13T04:51:40.880190Z"
    }
   },
   "outputs": [
    {
     "data": {
      "text/plain": [
       "array([[<AxesSubplot:title={'center':'CRIM'}>,\n",
       "        <AxesSubplot:title={'center':'ZN'}>,\n",
       "        <AxesSubplot:title={'center':'INDUS'}>,\n",
       "        <AxesSubplot:title={'center':'CHAS'}>],\n",
       "       [<AxesSubplot:title={'center':'NOX'}>,\n",
       "        <AxesSubplot:title={'center':'RM'}>,\n",
       "        <AxesSubplot:title={'center':'AGE'}>,\n",
       "        <AxesSubplot:title={'center':'DIS'}>],\n",
       "       [<AxesSubplot:title={'center':'RAD'}>,\n",
       "        <AxesSubplot:title={'center':'TAX'}>,\n",
       "        <AxesSubplot:title={'center':'PTRATIO'}>,\n",
       "        <AxesSubplot:title={'center':'LSTAT'}>],\n",
       "       [<AxesSubplot:title={'center':'CAT. MEDV'}>, <AxesSubplot:>,\n",
       "        <AxesSubplot:>, <AxesSubplot:>]], dtype=object)"
      ]
     },
     "execution_count": 9,
     "metadata": {},
     "output_type": "execute_result"
    },
    {
     "data": {
      "image/png": "[encoded data removed]",
      "text/plain": [
       "<Figure size 1440x1080 with 16 Axes>"
      ]
     },
     "metadata": {
      "needs_background": "light"
     },
     "output_type": "display_data"
    }
   ],
   "source": [
    "ap_df.hist(bins=30, figsize=(20, 15))"
   ]
  },
  {
   "cell_type": "code",
   "execution_count": 10,
   "id": "89e5931d",
   "metadata": {
    "ExecuteTime": {
     "end_time": "2023-02-13T04:51:41.828477Z",
     "start_time": "2023-02-13T04:51:41.824942Z"
    }
   },
   "outputs": [
    {
     "name": "stdout",
     "output_type": "stream",
     "text": [
      "CRIM Mean :3.6135235573122535\n",
      "CRIM Median :0.25651\n",
      "\n",
      "ZN Mean :11.363636363636363\n",
      "ZN Median :0.0\n",
      "\n",
      "INDUS Mean :11.136778656126504\n",
      "INDUS Median :9.69\n",
      "\n",
      "CHAS Mean :0.0691699604743083\n",
      "CHAS Median :0.0\n",
      "\n",
      "NOX Mean :0.5546950592885372\n",
      "NOX Median :0.538\n",
      "\n",
      "RM Mean :6.284634387351787\n",
      "RM Median :6.2085\n",
      "\n",
      "AGE Mean :68.57490118577078\n",
      "AGE Median :77.5\n",
      "\n",
      "DIS Mean :3.795042687747034\n",
      "DIS Median :3.2074499999999997\n",
      "\n",
      "RAD Mean :9.549407114624506\n",
      "RAD Median :5.0\n",
      "\n",
      "TAX Mean :408.2371541501976\n",
      "TAX Median :330.0\n",
      "\n",
      "PTRATIO Mean :18.455533596837967\n",
      "PTRATIO Median :19.05\n",
      "\n",
      "LSTAT Mean :12.653063241106723\n",
      "LSTAT Median :11.36\n",
      "\n",
      "CAT. MEDV Mean :0.16600790513833993\n",
      "CAT. MEDV Median :0.0\n",
      "\n"
     ]
    }
   ],
   "source": [
    "for column in ap_df:\n",
    "    print(column + \" Mean :\" + str(ap_df[column].mean()))\n",
    "    print(column + \" Median :\" + str(ap_df[column].median()))\n",
    "    print()"
   ]
  },
  {
   "cell_type": "code",
   "execution_count": 11,
   "id": "9c3ddbd4",
   "metadata": {
    "ExecuteTime": {
     "end_time": "2023-02-13T04:51:41.832178Z",
     "start_time": "2023-02-13T04:51:41.829326Z"
    }
   },
   "outputs": [
    {
     "data": {
      "text/plain": [
       "0    422\n",
       "1     84\n",
       "Name: CAT. MEDV, dtype: int64"
      ]
     },
     "execution_count": 11,
     "metadata": {},
     "output_type": "execute_result"
    }
   ],
   "source": [
    "ap_df['CAT. MEDV'].value_counts()"
   ]
  },
  {
   "cell_type": "code",
   "execution_count": 12,
   "id": "dd5dc7e3",
   "metadata": {
    "ExecuteTime": {
     "end_time": "2023-02-13T04:51:41.835955Z",
     "start_time": "2023-02-13T04:51:41.833162Z"
    }
   },
   "outputs": [],
   "source": [
    "ap_y = ap_df['CAT. MEDV']\n",
    "ap_X = ap_df.drop(columns=['CAT. MEDV'])"
   ]
  },
  {
   "cell_type": "code",
   "execution_count": 13,
   "id": "eb1921a4",
   "metadata": {
    "ExecuteTime": {
     "end_time": "2023-02-13T04:51:41.840438Z",
     "start_time": "2023-02-13T04:51:41.837340Z"
    }
   },
   "outputs": [],
   "source": [
    "ap_X_train, ap_X_val, ap_y_train, ap_y_val = train_test_split(ap_X,ap_y, test_size=0.3,random_state=0)"
   ]
  },
  {
   "cell_type": "markdown",
   "id": "a7545d60",
   "metadata": {},
   "source": [
    "## Random Forest"
   ]
  },
  {
   "cell_type": "code",
   "execution_count": 14,
   "id": "9a8af714",
   "metadata": {
    "ExecuteTime": {
     "end_time": "2023-02-13T04:51:47.477768Z",
     "start_time": "2023-02-13T04:51:41.842243Z"
    }
   },
   "outputs": [
    {
     "data": {
      "text/plain": [
       "GridSearchCV(estimator=RandomForestClassifier(random_state=0), n_jobs=-1,\n",
       "             param_grid={'max_features': range(1, 12),\n",
       "                         'n_estimators': [50, 80, 100, 150]})"
      ]
     },
     "execution_count": 14,
     "metadata": {},
     "output_type": "execute_result"
    }
   ],
   "source": [
    "ap_param ={ \n",
    "    'n_estimators': [50,80,100,150], \n",
    "    'max_features': range(1,12) \n",
    "} \n",
    "ap_rf = RandomForestClassifier(random_state=0) \n",
    "ap_grid_search = GridSearchCV(estimator=ap_rf, param_grid=ap_param,n_jobs=-1) \n",
    "ap_grid_search.fit(ap_X_train,ap_y_train) \n"
   ]
  },
  {
   "cell_type": "code",
   "execution_count": 15,
   "id": "debb17e5",
   "metadata": {
    "ExecuteTime": {
     "end_time": "2023-02-13T04:51:47.481553Z",
     "start_time": "2023-02-13T04:51:47.478891Z"
    }
   },
   "outputs": [
    {
     "data": {
      "text/plain": [
       "{'max_features': 5, 'n_estimators': 50}"
      ]
     },
     "execution_count": 15,
     "metadata": {},
     "output_type": "execute_result"
    }
   ],
   "source": [
    "ap_grid_search.best_params_ "
   ]
  },
  {
   "cell_type": "code",
   "execution_count": 16,
   "id": "8dfa920f",
   "metadata": {
    "ExecuteTime": {
     "end_time": "2023-02-13T04:51:47.490599Z",
     "start_time": "2023-02-13T04:51:47.482432Z"
    }
   },
   "outputs": [
    {
     "data": {
      "text/plain": [
       "0.9736842105263158"
      ]
     },
     "execution_count": 16,
     "metadata": {},
     "output_type": "execute_result"
    }
   ],
   "source": [
    "ap_grid_search.score(ap_X_val,ap_y_val) "
   ]
  },
  {
   "cell_type": "code",
   "execution_count": 17,
   "id": "d297d59a",
   "metadata": {
    "ExecuteTime": {
     "end_time": "2023-02-13T04:51:47.498977Z",
     "start_time": "2023-02-13T04:51:47.492187Z"
    }
   },
   "outputs": [
    {
     "data": {
      "text/plain": [
       "RM         0.412881\n",
       "LSTAT      0.213547\n",
       "PTRATIO    0.100141\n",
       "INDUS      0.079441\n",
       "TAX        0.061776\n",
       "CRIM       0.029790\n",
       "DIS        0.025786\n",
       "AGE        0.023781\n",
       "ZN         0.022103\n",
       "RAD        0.017405\n",
       "NOX        0.011272\n",
       "CHAS       0.002077\n",
       "dtype: float64"
      ]
     },
     "execution_count": 17,
     "metadata": {},
     "output_type": "execute_result"
    }
   ],
   "source": [
    "ap_final_model = ap_grid_search.best_estimator_\n",
    "ap_feature_imp = pd.Series(ap_final_model.feature_importances_,index=ap_X.columns).sort_values(ascending = False)\n",
    "ap_feature_imp"
   ]
  },
  {
   "cell_type": "markdown",
   "id": "5d3cf7c1",
   "metadata": {},
   "source": [
    "## SVM"
   ]
  },
  {
   "cell_type": "code",
   "execution_count": 18,
   "id": "dad06202",
   "metadata": {
    "ExecuteTime": {
     "end_time": "2023-02-13T04:51:47.505515Z",
     "start_time": "2023-02-13T04:51:47.500037Z"
    }
   },
   "outputs": [],
   "source": [
    "ap_y = ap_df['CAT. MEDV']\n",
    "ap_X = ap_df.drop(columns=['CAT. MEDV'])\n",
    "ap_X = StandardScaler().fit_transform(ap_X)"
   ]
  },
  {
   "cell_type": "code",
   "execution_count": 19,
   "id": "e6863171",
   "metadata": {
    "ExecuteTime": {
     "end_time": "2023-02-13T04:51:47.509890Z",
     "start_time": "2023-02-13T04:51:47.506751Z"
    }
   },
   "outputs": [],
   "source": [
    "ap_X_train, ap_X_val, ap_y_train, ap_y_val = train_test_split(ap_X,ap_y, test_size=0.3,random_state=0)"
   ]
  },
  {
   "cell_type": "markdown",
   "id": "15025bee",
   "metadata": {},
   "source": [
    "### Linear"
   ]
  },
  {
   "cell_type": "code",
   "execution_count": 20,
   "id": "8feb1978",
   "metadata": {
    "ExecuteTime": {
     "end_time": "2023-02-13T04:51:47.515696Z",
     "start_time": "2023-02-13T04:51:47.510859Z"
    }
   },
   "outputs": [
    {
     "data": {
      "text/plain": [
       "SVC(kernel='linear')"
      ]
     },
     "execution_count": 20,
     "metadata": {},
     "output_type": "execute_result"
    }
   ],
   "source": [
    "ap_linearSVM = svm.SVC(kernel='linear')\n",
    "ap_linearSVM.fit(ap_X_train,ap_y_train)"
   ]
  },
  {
   "cell_type": "code",
   "execution_count": 21,
   "id": "bb8d242c",
   "metadata": {
    "ExecuteTime": {
     "end_time": "2023-02-13T04:51:47.518881Z",
     "start_time": "2023-02-13T04:51:47.516622Z"
    }
   },
   "outputs": [
    {
     "data": {
      "text/plain": [
       "1.0"
      ]
     },
     "execution_count": 21,
     "metadata": {},
     "output_type": "execute_result"
    }
   ],
   "source": [
    "ap_linearSVM.C"
   ]
  },
  {
   "cell_type": "code",
   "execution_count": 22,
   "id": "c74bf9c0",
   "metadata": {
    "ExecuteTime": {
     "end_time": "2023-02-13T04:51:47.523817Z",
     "start_time": "2023-02-13T04:51:47.520428Z"
    }
   },
   "outputs": [
    {
     "data": {
      "text/plain": [
       "0.9605263157894737"
      ]
     },
     "execution_count": 22,
     "metadata": {},
     "output_type": "execute_result"
    }
   ],
   "source": [
    "ap_linearSVM.score(ap_X_val,ap_y_val)"
   ]
  },
  {
   "cell_type": "markdown",
   "id": "d4435b25",
   "metadata": {},
   "source": [
    "### Radial"
   ]
  },
  {
   "cell_type": "code",
   "execution_count": 23,
   "id": "9e21a45f",
   "metadata": {
    "ExecuteTime": {
     "end_time": "2023-02-13T04:51:47.530144Z",
     "start_time": "2023-02-13T04:51:47.524996Z"
    }
   },
   "outputs": [
    {
     "data": {
      "text/plain": [
       "SVC()"
      ]
     },
     "execution_count": 23,
     "metadata": {},
     "output_type": "execute_result"
    }
   ],
   "source": [
    "ap_radialSVM = svm.SVC(kernel='rbf')\n",
    "ap_radialSVM.fit(ap_X_train,ap_y_train)"
   ]
  },
  {
   "cell_type": "code",
   "execution_count": 24,
   "id": "f4ce39f6",
   "metadata": {
    "ExecuteTime": {
     "end_time": "2023-02-13T04:51:47.533460Z",
     "start_time": "2023-02-13T04:51:47.531096Z"
    }
   },
   "outputs": [
    {
     "data": {
      "text/plain": [
       "1.0"
      ]
     },
     "execution_count": 24,
     "metadata": {},
     "output_type": "execute_result"
    }
   ],
   "source": [
    "ap_radialSVM.C"
   ]
  },
  {
   "cell_type": "code",
   "execution_count": 25,
   "id": "6b823811",
   "metadata": {
    "ExecuteTime": {
     "end_time": "2023-02-13T04:51:47.538528Z",
     "start_time": "2023-02-13T04:51:47.534337Z"
    }
   },
   "outputs": [
    {
     "data": {
      "text/plain": [
       "0.9605263157894737"
      ]
     },
     "execution_count": 25,
     "metadata": {},
     "output_type": "execute_result"
    }
   ],
   "source": [
    "ap_radialSVM.score(ap_X_val,ap_y_val)"
   ]
  },
  {
   "cell_type": "code",
   "execution_count": 26,
   "id": "4f782683",
   "metadata": {
    "ExecuteTime": {
     "end_time": "2023-02-13T04:51:48.759411Z",
     "start_time": "2023-02-13T04:51:47.539634Z"
    }
   },
   "outputs": [
    {
     "name": "stdout",
     "output_type": "stream",
     "text": [
      "Fitting 10 folds for each of 40 candidates, totalling 400 fits\n",
      "[CV 1/10] END .......C=0.1, gamma=1, kernel=rbf;, score=0.833 total time=   0.0s\n",
      "[CV 2/10] END .......C=0.1, gamma=1, kernel=rbf;, score=0.806 total time=   0.0s\n",
      "[CV 3/10] END .......C=0.1, gamma=1, kernel=rbf;, score=0.806 total time=   0.0s\n",
      "[CV 4/10] END .......C=0.1, gamma=1, kernel=rbf;, score=0.806 total time=   0.0s\n",
      "[CV 5/10] END .......C=0.1, gamma=1, kernel=rbf;, score=0.829 total time=   0.0s\n",
      "[CV 6/10] END .......C=0.1, gamma=1, kernel=rbf;, score=0.829 total time=   0.0s\n",
      "[CV 7/10] END .......C=0.1, gamma=1, kernel=rbf;, score=0.829 total time=   0.0s\n",
      "[CV 8/10] END .......C=0.1, gamma=1, kernel=rbf;, score=0.829 total time=   0.0s\n",
      "[CV 9/10] END .......C=0.1, gamma=1, kernel=rbf;, score=0.829 total time=   0.0s\n",
      "[CV 10/10] END ......C=0.1, gamma=1, kernel=rbf;, score=0.829 total time=   0.0s\n",
      "[CV 1/10] END ....C=0.1, gamma=1, kernel=linear;, score=0.944 total time=   0.0s\n",
      "[CV 2/10] END ....C=0.1, gamma=1, kernel=linear;, score=0.917 total time=   0.0s\n",
      "[CV 3/10] END ....C=0.1, gamma=1, kernel=linear;, score=0.944 total time=   0.0s\n",
      "[CV 4/10] END ....C=0.1, gamma=1, kernel=linear;, score=0.972 total time=   0.0s\n",
      "[CV 5/10] END ....C=0.1, gamma=1, kernel=linear;, score=0.943 total time=   0.0s\n",
      "[CV 6/10] END ....C=0.1, gamma=1, kernel=linear;, score=0.943 total time=   0.0s\n",
      "[CV 7/10] END ....C=0.1, gamma=1, kernel=linear;, score=0.914 total time=   0.0s\n",
      "[CV 8/10] END ....C=0.1, gamma=1, kernel=linear;, score=1.000 total time=   0.0s\n",
      "[CV 9/10] END ....C=0.1, gamma=1, kernel=linear;, score=0.914 total time=   0.0s\n",
      "[CV 10/10] END ...C=0.1, gamma=1, kernel=linear;, score=0.914 total time=   0.0s\n",
      "[CV 1/10] END .....C=0.1, gamma=0.1, kernel=rbf;, score=0.861 total time=   0.0s\n",
      "[CV 2/10] END .....C=0.1, gamma=0.1, kernel=rbf;, score=0.861 total time=   0.0s\n",
      "[CV 3/10] END .....C=0.1, gamma=0.1, kernel=rbf;, score=0.833 total time=   0.0s\n",
      "[CV 4/10] END .....C=0.1, gamma=0.1, kernel=rbf;, score=0.833 total time=   0.0s\n",
      "[CV 5/10] END .....C=0.1, gamma=0.1, kernel=rbf;, score=0.857 total time=   0.0s\n",
      "[CV 6/10] END .....C=0.1, gamma=0.1, kernel=rbf;, score=0.857 total time=   0.0s\n",
      "[CV 7/10] END .....C=0.1, gamma=0.1, kernel=rbf;, score=0.829 total time=   0.0s\n",
      "[CV 8/10] END .....C=0.1, gamma=0.1, kernel=rbf;, score=0.914 total time=   0.0s\n",
      "[CV 9/10] END .....C=0.1, gamma=0.1, kernel=rbf;, score=0.829 total time=   0.0s\n",
      "[CV 10/10] END ....C=0.1, gamma=0.1, kernel=rbf;, score=0.829 total time=   0.0s\n",
      "[CV 1/10] END ..C=0.1, gamma=0.1, kernel=linear;, score=0.944 total time=   0.0s\n",
      "[CV 2/10] END ..C=0.1, gamma=0.1, kernel=linear;, score=0.917 total time=   0.0s\n",
      "[CV 3/10] END ..C=0.1, gamma=0.1, kernel=linear;, score=0.944 total time=   0.0s\n",
      "[CV 4/10] END ..C=0.1, gamma=0.1, kernel=linear;, score=0.972 total time=   0.0s\n",
      "[CV 5/10] END ..C=0.1, gamma=0.1, kernel=linear;, score=0.943 total time=   0.0s\n",
      "[CV 6/10] END ..C=0.1, gamma=0.1, kernel=linear;, score=0.943 total time=   0.0s\n",
      "[CV 7/10] END ..C=0.1, gamma=0.1, kernel=linear;, score=0.914 total time=   0.0s\n",
      "[CV 8/10] END ..C=0.1, gamma=0.1, kernel=linear;, score=1.000 total time=   0.0s\n",
      "[CV 9/10] END ..C=0.1, gamma=0.1, kernel=linear;, score=0.914 total time=   0.0s\n",
      "[CV 10/10] END .C=0.1, gamma=0.1, kernel=linear;, score=0.914 total time=   0.0s\n",
      "[CV 1/10] END ....C=0.1, gamma=0.01, kernel=rbf;, score=0.833 total time=   0.0s\n",
      "[CV 2/10] END ....C=0.1, gamma=0.01, kernel=rbf;, score=0.806 total time=   0.0s\n",
      "[CV 3/10] END ....C=0.1, gamma=0.01, kernel=rbf;, score=0.806 total time=   0.0s\n",
      "[CV 4/10] END ....C=0.1, gamma=0.01, kernel=rbf;, score=0.806 total time=   0.0s\n",
      "[CV 5/10] END ....C=0.1, gamma=0.01, kernel=rbf;, score=0.829 total time=   0.0s\n",
      "[CV 6/10] END ....C=0.1, gamma=0.01, kernel=rbf;, score=0.829 total time=   0.0s\n",
      "[CV 7/10] END ....C=0.1, gamma=0.01, kernel=rbf;, score=0.829 total time=   0.0s\n",
      "[CV 8/10] END ....C=0.1, gamma=0.01, kernel=rbf;, score=0.829 total time=   0.0s\n",
      "[CV 9/10] END ....C=0.1, gamma=0.01, kernel=rbf;, score=0.829 total time=   0.0s\n",
      "[CV 10/10] END ...C=0.1, gamma=0.01, kernel=rbf;, score=0.829 total time=   0.0s\n",
      "[CV 1/10] END .C=0.1, gamma=0.01, kernel=linear;, score=0.944 total time=   0.0s\n",
      "[CV 2/10] END .C=0.1, gamma=0.01, kernel=linear;, score=0.917 total time=   0.0s\n",
      "[CV 3/10] END .C=0.1, gamma=0.01, kernel=linear;, score=0.944 total time=   0.0s\n",
      "[CV 4/10] END .C=0.1, gamma=0.01, kernel=linear;, score=0.972 total time=   0.0s\n",
      "[CV 5/10] END .C=0.1, gamma=0.01, kernel=linear;, score=0.943 total time=   0.0s\n",
      "[CV 6/10] END .C=0.1, gamma=0.01, kernel=linear;, score=0.943 total time=   0.0s\n",
      "[CV 7/10] END .C=0.1, gamma=0.01, kernel=linear;, score=0.914 total time=   0.0s\n",
      "[CV 8/10] END .C=0.1, gamma=0.01, kernel=linear;, score=1.000 total time=   0.0s\n",
      "[CV 9/10] END .C=0.1, gamma=0.01, kernel=linear;, score=0.914 total time=   0.0s\n",
      "[CV 10/10] END C=0.1, gamma=0.01, kernel=linear;, score=0.914 total time=   0.0s\n",
      "[CV 1/10] END ...C=0.1, gamma=0.001, kernel=rbf;, score=0.833 total time=   0.0s\n",
      "[CV 2/10] END ...C=0.1, gamma=0.001, kernel=rbf;, score=0.806 total time=   0.0s\n",
      "[CV 3/10] END ...C=0.1, gamma=0.001, kernel=rbf;, score=0.806 total time=   0.0s\n",
      "[CV 4/10] END ...C=0.1, gamma=0.001, kernel=rbf;, score=0.806 total time=   0.0s\n",
      "[CV 5/10] END ...C=0.1, gamma=0.001, kernel=rbf;, score=0.829 total time=   0.0s\n",
      "[CV 6/10] END ...C=0.1, gamma=0.001, kernel=rbf;, score=0.829 total time=   0.0s\n",
      "[CV 7/10] END ...C=0.1, gamma=0.001, kernel=rbf;, score=0.829 total time=   0.0s\n",
      "[CV 8/10] END ...C=0.1, gamma=0.001, kernel=rbf;, score=0.829 total time=   0.0s\n",
      "[CV 9/10] END ...C=0.1, gamma=0.001, kernel=rbf;, score=0.829 total time=   0.0s\n",
      "[CV 10/10] END ..C=0.1, gamma=0.001, kernel=rbf;, score=0.829 total time=   0.0s\n",
      "[CV 1/10] END C=0.1, gamma=0.001, kernel=linear;, score=0.944 total time=   0.0s\n",
      "[CV 2/10] END C=0.1, gamma=0.001, kernel=linear;, score=0.917 total time=   0.0s\n",
      "[CV 3/10] END C=0.1, gamma=0.001, kernel=linear;, score=0.944 total time=   0.0s\n",
      "[CV 4/10] END C=0.1, gamma=0.001, kernel=linear;, score=0.972 total time=   0.0s\n",
      "[CV 5/10] END C=0.1, gamma=0.001, kernel=linear;, score=0.943 total time=   0.0s\n",
      "[CV 6/10] END C=0.1, gamma=0.001, kernel=linear;, score=0.943 total time=   0.0s\n",
      "[CV 7/10] END C=0.1, gamma=0.001, kernel=linear;, score=0.914 total time=   0.0s\n",
      "[CV 8/10] END C=0.1, gamma=0.001, kernel=linear;, score=1.000 total time=   0.0s\n",
      "[CV 9/10] END C=0.1, gamma=0.001, kernel=linear;, score=0.914 total time=   0.0s\n",
      "[CV 10/10] END C=0.1, gamma=0.001, kernel=linear;, score=0.914 total time=   0.0s\n",
      "[CV 1/10] END .......C=0.5, gamma=1, kernel=rbf;, score=0.889 total time=   0.0s\n",
      "[CV 2/10] END .......C=0.5, gamma=1, kernel=rbf;, score=0.861 total time=   0.0s\n",
      "[CV 3/10] END .......C=0.5, gamma=1, kernel=rbf;, score=0.861 total time=   0.0s\n",
      "[CV 4/10] END .......C=0.5, gamma=1, kernel=rbf;, score=0.861 total time=   0.0s\n",
      "[CV 5/10] END .......C=0.5, gamma=1, kernel=rbf;, score=0.857 total time=   0.0s\n",
      "[CV 6/10] END .......C=0.5, gamma=1, kernel=rbf;, score=0.886 total time=   0.0s\n",
      "[CV 7/10] END .......C=0.5, gamma=1, kernel=rbf;, score=0.886 total time=   0.0s\n",
      "[CV 8/10] END .......C=0.5, gamma=1, kernel=rbf;, score=0.857 total time=   0.0s\n",
      "[CV 9/10] END .......C=0.5, gamma=1, kernel=rbf;, score=0.829 total time=   0.0s\n",
      "[CV 10/10] END ......C=0.5, gamma=1, kernel=rbf;, score=0.829 total time=   0.0s\n",
      "[CV 1/10] END ....C=0.5, gamma=1, kernel=linear;, score=0.917 total time=   0.0s\n",
      "[CV 2/10] END ....C=0.5, gamma=1, kernel=linear;, score=0.944 total time=   0.0s\n",
      "[CV 3/10] END ....C=0.5, gamma=1, kernel=linear;, score=0.944 total time=   0.0s\n",
      "[CV 4/10] END ....C=0.5, gamma=1, kernel=linear;, score=1.000 total time=   0.0s\n",
      "[CV 5/10] END ....C=0.5, gamma=1, kernel=linear;, score=0.943 total time=   0.0s\n",
      "[CV 6/10] END ....C=0.5, gamma=1, kernel=linear;, score=0.886 total time=   0.0s\n",
      "[CV 7/10] END ....C=0.5, gamma=1, kernel=linear;, score=0.914 total time=   0.0s\n",
      "[CV 8/10] END ....C=0.5, gamma=1, kernel=linear;, score=1.000 total time=   0.0s\n",
      "[CV 9/10] END ....C=0.5, gamma=1, kernel=linear;, score=0.914 total time=   0.0s\n",
      "[CV 10/10] END ...C=0.5, gamma=1, kernel=linear;, score=0.943 total time=   0.0s\n",
      "[CV 1/10] END .....C=0.5, gamma=0.1, kernel=rbf;, score=0.944 total time=   0.0s\n",
      "[CV 2/10] END .....C=0.5, gamma=0.1, kernel=rbf;, score=0.944 total time=   0.0s\n",
      "[CV 3/10] END .....C=0.5, gamma=0.1, kernel=rbf;, score=0.972 total time=   0.0s\n",
      "[CV 4/10] END .....C=0.5, gamma=0.1, kernel=rbf;, score=0.944 total time=   0.0s\n",
      "[CV 5/10] END .....C=0.5, gamma=0.1, kernel=rbf;, score=0.914 total time=   0.0s\n",
      "[CV 6/10] END .....C=0.5, gamma=0.1, kernel=rbf;, score=0.971 total time=   0.0s\n",
      "[CV 7/10] END .....C=0.5, gamma=0.1, kernel=rbf;, score=0.914 total time=   0.0s\n",
      "[CV 8/10] END .....C=0.5, gamma=0.1, kernel=rbf;, score=0.971 total time=   0.0s\n",
      "[CV 9/10] END .....C=0.5, gamma=0.1, kernel=rbf;, score=0.886 total time=   0.0s\n",
      "[CV 10/10] END ....C=0.5, gamma=0.1, kernel=rbf;, score=0.914 total time=   0.0s\n",
      "[CV 1/10] END ..C=0.5, gamma=0.1, kernel=linear;, score=0.917 total time=   0.0s\n",
      "[CV 2/10] END ..C=0.5, gamma=0.1, kernel=linear;, score=0.944 total time=   0.0s\n",
      "[CV 3/10] END ..C=0.5, gamma=0.1, kernel=linear;, score=0.944 total time=   0.0s\n",
      "[CV 4/10] END ..C=0.5, gamma=0.1, kernel=linear;, score=1.000 total time=   0.0s\n",
      "[CV 5/10] END ..C=0.5, gamma=0.1, kernel=linear;, score=0.943 total time=   0.0s\n",
      "[CV 6/10] END ..C=0.5, gamma=0.1, kernel=linear;, score=0.886 total time=   0.0s\n",
      "[CV 7/10] END ..C=0.5, gamma=0.1, kernel=linear;, score=0.914 total time=   0.0s\n",
      "[CV 8/10] END ..C=0.5, gamma=0.1, kernel=linear;, score=1.000 total time=   0.0s\n",
      "[CV 9/10] END ..C=0.5, gamma=0.1, kernel=linear;, score=0.914 total time=   0.0s\n",
      "[CV 10/10] END .C=0.5, gamma=0.1, kernel=linear;, score=0.943 total time=   0.0s\n",
      "[CV 1/10] END ....C=0.5, gamma=0.01, kernel=rbf;, score=0.917 total time=   0.0s\n",
      "[CV 2/10] END ....C=0.5, gamma=0.01, kernel=rbf;, score=0.917 total time=   0.0s\n",
      "[CV 3/10] END ....C=0.5, gamma=0.01, kernel=rbf;, score=0.917 total time=   0.0s\n",
      "[CV 4/10] END ....C=0.5, gamma=0.01, kernel=rbf;, score=0.861 total time=   0.0s\n",
      "[CV 5/10] END ....C=0.5, gamma=0.01, kernel=rbf;, score=0.886 total time=   0.0s\n",
      "[CV 6/10] END ....C=0.5, gamma=0.01, kernel=rbf;, score=0.914 total time=   0.0s\n",
      "[CV 7/10] END ....C=0.5, gamma=0.01, kernel=rbf;, score=0.914 total time=   0.0s\n",
      "[CV 8/10] END ....C=0.5, gamma=0.01, kernel=rbf;, score=0.971 total time=   0.0s\n",
      "[CV 9/10] END ....C=0.5, gamma=0.01, kernel=rbf;, score=0.886 total time=   0.0s\n",
      "[CV 10/10] END ...C=0.5, gamma=0.01, kernel=rbf;, score=0.914 total time=   0.0s\n",
      "[CV 1/10] END .C=0.5, gamma=0.01, kernel=linear;, score=0.917 total time=   0.0s\n"
     ]
    },
    {
     "name": "stdout",
     "output_type": "stream",
     "text": [
      "[CV 2/10] END .C=0.5, gamma=0.01, kernel=linear;, score=0.944 total time=   0.0s\n",
      "[CV 3/10] END .C=0.5, gamma=0.01, kernel=linear;, score=0.944 total time=   0.0s\n",
      "[CV 4/10] END .C=0.5, gamma=0.01, kernel=linear;, score=1.000 total time=   0.0s\n",
      "[CV 5/10] END .C=0.5, gamma=0.01, kernel=linear;, score=0.943 total time=   0.0s\n",
      "[CV 6/10] END .C=0.5, gamma=0.01, kernel=linear;, score=0.886 total time=   0.0s\n",
      "[CV 7/10] END .C=0.5, gamma=0.01, kernel=linear;, score=0.914 total time=   0.0s\n",
      "[CV 8/10] END .C=0.5, gamma=0.01, kernel=linear;, score=1.000 total time=   0.0s\n",
      "[CV 9/10] END .C=0.5, gamma=0.01, kernel=linear;, score=0.914 total time=   0.0s\n",
      "[CV 10/10] END C=0.5, gamma=0.01, kernel=linear;, score=0.943 total time=   0.0s\n",
      "[CV 1/10] END ...C=0.5, gamma=0.001, kernel=rbf;, score=0.833 total time=   0.0s\n",
      "[CV 2/10] END ...C=0.5, gamma=0.001, kernel=rbf;, score=0.806 total time=   0.0s\n",
      "[CV 3/10] END ...C=0.5, gamma=0.001, kernel=rbf;, score=0.806 total time=   0.0s\n",
      "[CV 4/10] END ...C=0.5, gamma=0.001, kernel=rbf;, score=0.806 total time=   0.0s\n",
      "[CV 5/10] END ...C=0.5, gamma=0.001, kernel=rbf;, score=0.829 total time=   0.0s\n",
      "[CV 6/10] END ...C=0.5, gamma=0.001, kernel=rbf;, score=0.829 total time=   0.0s\n",
      "[CV 7/10] END ...C=0.5, gamma=0.001, kernel=rbf;, score=0.829 total time=   0.0s\n",
      "[CV 8/10] END ...C=0.5, gamma=0.001, kernel=rbf;, score=0.829 total time=   0.0s\n",
      "[CV 9/10] END ...C=0.5, gamma=0.001, kernel=rbf;, score=0.829 total time=   0.0s\n",
      "[CV 10/10] END ..C=0.5, gamma=0.001, kernel=rbf;, score=0.829 total time=   0.0s\n",
      "[CV 1/10] END C=0.5, gamma=0.001, kernel=linear;, score=0.917 total time=   0.0s\n",
      "[CV 2/10] END C=0.5, gamma=0.001, kernel=linear;, score=0.944 total time=   0.0s\n",
      "[CV 3/10] END C=0.5, gamma=0.001, kernel=linear;, score=0.944 total time=   0.0s\n",
      "[CV 4/10] END C=0.5, gamma=0.001, kernel=linear;, score=1.000 total time=   0.0s\n",
      "[CV 5/10] END C=0.5, gamma=0.001, kernel=linear;, score=0.943 total time=   0.0s\n",
      "[CV 6/10] END C=0.5, gamma=0.001, kernel=linear;, score=0.886 total time=   0.0s\n",
      "[CV 7/10] END C=0.5, gamma=0.001, kernel=linear;, score=0.914 total time=   0.0s\n",
      "[CV 8/10] END C=0.5, gamma=0.001, kernel=linear;, score=1.000 total time=   0.0s\n",
      "[CV 9/10] END C=0.5, gamma=0.001, kernel=linear;, score=0.914 total time=   0.0s\n",
      "[CV 10/10] END C=0.5, gamma=0.001, kernel=linear;, score=0.943 total time=   0.0s\n",
      "[CV 1/10] END .........C=1, gamma=1, kernel=rbf;, score=0.917 total time=   0.0s\n",
      "[CV 2/10] END .........C=1, gamma=1, kernel=rbf;, score=0.917 total time=   0.0s\n",
      "[CV 3/10] END .........C=1, gamma=1, kernel=rbf;, score=0.944 total time=   0.0s\n",
      "[CV 4/10] END .........C=1, gamma=1, kernel=rbf;, score=0.889 total time=   0.0s\n",
      "[CV 5/10] END .........C=1, gamma=1, kernel=rbf;, score=0.857 total time=   0.0s\n",
      "[CV 6/10] END .........C=1, gamma=1, kernel=rbf;, score=0.943 total time=   0.0s\n",
      "[CV 7/10] END .........C=1, gamma=1, kernel=rbf;, score=0.971 total time=   0.0s\n",
      "[CV 8/10] END .........C=1, gamma=1, kernel=rbf;, score=0.857 total time=   0.0s\n",
      "[CV 9/10] END .........C=1, gamma=1, kernel=rbf;, score=0.886 total time=   0.0s\n",
      "[CV 10/10] END ........C=1, gamma=1, kernel=rbf;, score=0.914 total time=   0.0s\n",
      "[CV 1/10] END ......C=1, gamma=1, kernel=linear;, score=0.917 total time=   0.0s\n",
      "[CV 2/10] END ......C=1, gamma=1, kernel=linear;, score=0.944 total time=   0.0s\n",
      "[CV 3/10] END ......C=1, gamma=1, kernel=linear;, score=0.944 total time=   0.0s\n",
      "[CV 4/10] END ......C=1, gamma=1, kernel=linear;, score=0.972 total time=   0.0s\n",
      "[CV 5/10] END ......C=1, gamma=1, kernel=linear;, score=0.943 total time=   0.0s\n",
      "[CV 6/10] END ......C=1, gamma=1, kernel=linear;, score=0.886 total time=   0.0s\n",
      "[CV 7/10] END ......C=1, gamma=1, kernel=linear;, score=0.914 total time=   0.0s\n",
      "[CV 8/10] END ......C=1, gamma=1, kernel=linear;, score=1.000 total time=   0.0s\n",
      "[CV 9/10] END ......C=1, gamma=1, kernel=linear;, score=0.943 total time=   0.0s\n",
      "[CV 10/10] END .....C=1, gamma=1, kernel=linear;, score=0.943 total time=   0.0s\n",
      "[CV 1/10] END .......C=1, gamma=0.1, kernel=rbf;, score=0.944 total time=   0.0s\n",
      "[CV 2/10] END .......C=1, gamma=0.1, kernel=rbf;, score=0.944 total time=   0.0s\n",
      "[CV 3/10] END .......C=1, gamma=0.1, kernel=rbf;, score=0.917 total time=   0.0s\n",
      "[CV 4/10] END .......C=1, gamma=0.1, kernel=rbf;, score=1.000 total time=   0.0s\n",
      "[CV 5/10] END .......C=1, gamma=0.1, kernel=rbf;, score=0.943 total time=   0.0s\n",
      "[CV 6/10] END .......C=1, gamma=0.1, kernel=rbf;, score=0.971 total time=   0.0s\n",
      "[CV 7/10] END .......C=1, gamma=0.1, kernel=rbf;, score=0.914 total time=   0.0s\n",
      "[CV 8/10] END .......C=1, gamma=0.1, kernel=rbf;, score=0.971 total time=   0.0s\n",
      "[CV 9/10] END .......C=1, gamma=0.1, kernel=rbf;, score=0.886 total time=   0.0s\n",
      "[CV 10/10] END ......C=1, gamma=0.1, kernel=rbf;, score=0.914 total time=   0.0s\n",
      "[CV 1/10] END ....C=1, gamma=0.1, kernel=linear;, score=0.917 total time=   0.0s\n",
      "[CV 2/10] END ....C=1, gamma=0.1, kernel=linear;, score=0.944 total time=   0.0s\n",
      "[CV 3/10] END ....C=1, gamma=0.1, kernel=linear;, score=0.944 total time=   0.0s\n",
      "[CV 4/10] END ....C=1, gamma=0.1, kernel=linear;, score=0.972 total time=   0.0s\n",
      "[CV 5/10] END ....C=1, gamma=0.1, kernel=linear;, score=0.943 total time=   0.0s\n",
      "[CV 6/10] END ....C=1, gamma=0.1, kernel=linear;, score=0.886 total time=   0.0s\n",
      "[CV 7/10] END ....C=1, gamma=0.1, kernel=linear;, score=0.914 total time=   0.0s\n",
      "[CV 8/10] END ....C=1, gamma=0.1, kernel=linear;, score=1.000 total time=   0.0s\n",
      "[CV 9/10] END ....C=1, gamma=0.1, kernel=linear;, score=0.943 total time=   0.0s\n",
      "[CV 10/10] END ...C=1, gamma=0.1, kernel=linear;, score=0.943 total time=   0.0s\n",
      "[CV 1/10] END ......C=1, gamma=0.01, kernel=rbf;, score=0.972 total time=   0.0s\n",
      "[CV 2/10] END ......C=1, gamma=0.01, kernel=rbf;, score=0.944 total time=   0.0s\n",
      "[CV 3/10] END ......C=1, gamma=0.01, kernel=rbf;, score=0.944 total time=   0.0s\n",
      "[CV 4/10] END ......C=1, gamma=0.01, kernel=rbf;, score=0.972 total time=   0.0s\n",
      "[CV 5/10] END ......C=1, gamma=0.01, kernel=rbf;, score=0.914 total time=   0.0s\n",
      "[CV 6/10] END ......C=1, gamma=0.01, kernel=rbf;, score=0.943 total time=   0.0s\n",
      "[CV 7/10] END ......C=1, gamma=0.01, kernel=rbf;, score=0.943 total time=   0.0s\n",
      "[CV 8/10] END ......C=1, gamma=0.01, kernel=rbf;, score=0.971 total time=   0.0s\n",
      "[CV 9/10] END ......C=1, gamma=0.01, kernel=rbf;, score=0.914 total time=   0.0s\n",
      "[CV 10/10] END .....C=1, gamma=0.01, kernel=rbf;, score=0.943 total time=   0.0s\n",
      "[CV 1/10] END ...C=1, gamma=0.01, kernel=linear;, score=0.917 total time=   0.0s\n",
      "[CV 2/10] END ...C=1, gamma=0.01, kernel=linear;, score=0.944 total time=   0.0s\n",
      "[CV 3/10] END ...C=1, gamma=0.01, kernel=linear;, score=0.944 total time=   0.0s\n",
      "[CV 4/10] END ...C=1, gamma=0.01, kernel=linear;, score=0.972 total time=   0.0s\n",
      "[CV 5/10] END ...C=1, gamma=0.01, kernel=linear;, score=0.943 total time=   0.0s\n",
      "[CV 6/10] END ...C=1, gamma=0.01, kernel=linear;, score=0.886 total time=   0.0s\n",
      "[CV 7/10] END ...C=1, gamma=0.01, kernel=linear;, score=0.914 total time=   0.0s\n",
      "[CV 8/10] END ...C=1, gamma=0.01, kernel=linear;, score=1.000 total time=   0.0s\n",
      "[CV 9/10] END ...C=1, gamma=0.01, kernel=linear;, score=0.943 total time=   0.0s\n",
      "[CV 10/10] END ..C=1, gamma=0.01, kernel=linear;, score=0.943 total time=   0.0s\n",
      "[CV 1/10] END .....C=1, gamma=0.001, kernel=rbf;, score=0.833 total time=   0.0s\n",
      "[CV 2/10] END .....C=1, gamma=0.001, kernel=rbf;, score=0.806 total time=   0.0s\n",
      "[CV 3/10] END .....C=1, gamma=0.001, kernel=rbf;, score=0.806 total time=   0.0s\n",
      "[CV 4/10] END .....C=1, gamma=0.001, kernel=rbf;, score=0.806 total time=   0.0s\n",
      "[CV 5/10] END .....C=1, gamma=0.001, kernel=rbf;, score=0.829 total time=   0.0s\n",
      "[CV 6/10] END .....C=1, gamma=0.001, kernel=rbf;, score=0.829 total time=   0.0s\n",
      "[CV 7/10] END .....C=1, gamma=0.001, kernel=rbf;, score=0.829 total time=   0.0s\n",
      "[CV 8/10] END .....C=1, gamma=0.001, kernel=rbf;, score=0.829 total time=   0.0s\n",
      "[CV 9/10] END .....C=1, gamma=0.001, kernel=rbf;, score=0.829 total time=   0.0s\n",
      "[CV 10/10] END ....C=1, gamma=0.001, kernel=rbf;, score=0.829 total time=   0.0s\n",
      "[CV 1/10] END ..C=1, gamma=0.001, kernel=linear;, score=0.917 total time=   0.0s\n",
      "[CV 2/10] END ..C=1, gamma=0.001, kernel=linear;, score=0.944 total time=   0.0s\n",
      "[CV 3/10] END ..C=1, gamma=0.001, kernel=linear;, score=0.944 total time=   0.0s\n",
      "[CV 4/10] END ..C=1, gamma=0.001, kernel=linear;, score=0.972 total time=   0.0s\n",
      "[CV 5/10] END ..C=1, gamma=0.001, kernel=linear;, score=0.943 total time=   0.0s\n",
      "[CV 6/10] END ..C=1, gamma=0.001, kernel=linear;, score=0.886 total time=   0.0s\n",
      "[CV 7/10] END ..C=1, gamma=0.001, kernel=linear;, score=0.914 total time=   0.0s\n",
      "[CV 8/10] END ..C=1, gamma=0.001, kernel=linear;, score=1.000 total time=   0.0s\n",
      "[CV 9/10] END ..C=1, gamma=0.001, kernel=linear;, score=0.943 total time=   0.0s\n",
      "[CV 10/10] END .C=1, gamma=0.001, kernel=linear;, score=0.943 total time=   0.0s\n",
      "[CV 1/10] END .........C=5, gamma=1, kernel=rbf;, score=0.917 total time=   0.0s\n",
      "[CV 2/10] END .........C=5, gamma=1, kernel=rbf;, score=0.944 total time=   0.0s\n",
      "[CV 3/10] END .........C=5, gamma=1, kernel=rbf;, score=0.944 total time=   0.0s\n",
      "[CV 4/10] END .........C=5, gamma=1, kernel=rbf;, score=0.917 total time=   0.0s\n",
      "[CV 5/10] END .........C=5, gamma=1, kernel=rbf;, score=0.886 total time=   0.0s\n",
      "[CV 6/10] END .........C=5, gamma=1, kernel=rbf;, score=0.943 total time=   0.0s\n",
      "[CV 7/10] END .........C=5, gamma=1, kernel=rbf;, score=0.971 total time=   0.0s\n",
      "[CV 8/10] END .........C=5, gamma=1, kernel=rbf;, score=0.857 total time=   0.0s\n",
      "[CV 9/10] END .........C=5, gamma=1, kernel=rbf;, score=0.857 total time=   0.0s\n",
      "[CV 10/10] END ........C=5, gamma=1, kernel=rbf;, score=0.914 total time=   0.0s\n",
      "[CV 1/10] END ......C=5, gamma=1, kernel=linear;, score=0.917 total time=   0.0s\n",
      "[CV 2/10] END ......C=5, gamma=1, kernel=linear;, score=0.944 total time=   0.0s\n",
      "[CV 3/10] END ......C=5, gamma=1, kernel=linear;, score=0.944 total time=   0.0s\n",
      "[CV 4/10] END ......C=5, gamma=1, kernel=linear;, score=0.972 total time=   0.0s\n",
      "[CV 5/10] END ......C=5, gamma=1, kernel=linear;, score=0.943 total time=   0.0s\n",
      "[CV 6/10] END ......C=5, gamma=1, kernel=linear;, score=0.857 total time=   0.0s\n",
      "[CV 7/10] END ......C=5, gamma=1, kernel=linear;, score=0.914 total time=   0.0s\n",
      "[CV 8/10] END ......C=5, gamma=1, kernel=linear;, score=1.000 total time=   0.0s\n",
      "[CV 9/10] END ......C=5, gamma=1, kernel=linear;, score=0.971 total time=   0.0s\n",
      "[CV 10/10] END .....C=5, gamma=1, kernel=linear;, score=0.914 total time=   0.0s\n",
      "[CV 1/10] END .......C=5, gamma=0.1, kernel=rbf;, score=0.944 total time=   0.0s\n",
      "[CV 2/10] END .......C=5, gamma=0.1, kernel=rbf;, score=0.944 total time=   0.0s\n",
      "[CV 3/10] END .......C=5, gamma=0.1, kernel=rbf;, score=0.944 total time=   0.0s\n",
      "[CV 4/10] END .......C=5, gamma=0.1, kernel=rbf;, score=0.972 total time=   0.0s\n"
     ]
    },
    {
     "name": "stdout",
     "output_type": "stream",
     "text": [
      "[CV 5/10] END .......C=5, gamma=0.1, kernel=rbf;, score=0.943 total time=   0.0s\n",
      "[CV 6/10] END .......C=5, gamma=0.1, kernel=rbf;, score=0.971 total time=   0.0s\n",
      "[CV 7/10] END .......C=5, gamma=0.1, kernel=rbf;, score=0.943 total time=   0.0s\n",
      "[CV 8/10] END .......C=5, gamma=0.1, kernel=rbf;, score=1.000 total time=   0.0s\n",
      "[CV 9/10] END .......C=5, gamma=0.1, kernel=rbf;, score=0.914 total time=   0.0s\n",
      "[CV 10/10] END ......C=5, gamma=0.1, kernel=rbf;, score=0.943 total time=   0.0s\n",
      "[CV 1/10] END ....C=5, gamma=0.1, kernel=linear;, score=0.917 total time=   0.0s\n",
      "[CV 2/10] END ....C=5, gamma=0.1, kernel=linear;, score=0.944 total time=   0.0s\n",
      "[CV 3/10] END ....C=5, gamma=0.1, kernel=linear;, score=0.944 total time=   0.0s\n",
      "[CV 4/10] END ....C=5, gamma=0.1, kernel=linear;, score=0.972 total time=   0.0s\n",
      "[CV 5/10] END ....C=5, gamma=0.1, kernel=linear;, score=0.943 total time=   0.0s\n",
      "[CV 6/10] END ....C=5, gamma=0.1, kernel=linear;, score=0.857 total time=   0.0s\n",
      "[CV 7/10] END ....C=5, gamma=0.1, kernel=linear;, score=0.914 total time=   0.0s\n",
      "[CV 8/10] END ....C=5, gamma=0.1, kernel=linear;, score=1.000 total time=   0.0s\n",
      "[CV 9/10] END ....C=5, gamma=0.1, kernel=linear;, score=0.971 total time=   0.0s\n",
      "[CV 10/10] END ...C=5, gamma=0.1, kernel=linear;, score=0.914 total time=   0.0s\n",
      "[CV 1/10] END ......C=5, gamma=0.01, kernel=rbf;, score=0.944 total time=   0.0s\n",
      "[CV 2/10] END ......C=5, gamma=0.01, kernel=rbf;, score=0.944 total time=   0.0s\n",
      "[CV 3/10] END ......C=5, gamma=0.01, kernel=rbf;, score=0.944 total time=   0.0s\n",
      "[CV 4/10] END ......C=5, gamma=0.01, kernel=rbf;, score=0.972 total time=   0.0s\n",
      "[CV 5/10] END ......C=5, gamma=0.01, kernel=rbf;, score=0.943 total time=   0.0s\n",
      "[CV 6/10] END ......C=5, gamma=0.01, kernel=rbf;, score=0.914 total time=   0.0s\n",
      "[CV 7/10] END ......C=5, gamma=0.01, kernel=rbf;, score=0.914 total time=   0.0s\n",
      "[CV 8/10] END ......C=5, gamma=0.01, kernel=rbf;, score=1.000 total time=   0.0s\n",
      "[CV 9/10] END ......C=5, gamma=0.01, kernel=rbf;, score=0.914 total time=   0.0s\n",
      "[CV 10/10] END .....C=5, gamma=0.01, kernel=rbf;, score=0.914 total time=   0.0s\n",
      "[CV 1/10] END ...C=5, gamma=0.01, kernel=linear;, score=0.917 total time=   0.0s\n",
      "[CV 2/10] END ...C=5, gamma=0.01, kernel=linear;, score=0.944 total time=   0.0s\n",
      "[CV 3/10] END ...C=5, gamma=0.01, kernel=linear;, score=0.944 total time=   0.0s\n",
      "[CV 4/10] END ...C=5, gamma=0.01, kernel=linear;, score=0.972 total time=   0.0s\n",
      "[CV 5/10] END ...C=5, gamma=0.01, kernel=linear;, score=0.943 total time=   0.0s\n",
      "[CV 6/10] END ...C=5, gamma=0.01, kernel=linear;, score=0.857 total time=   0.0s\n",
      "[CV 7/10] END ...C=5, gamma=0.01, kernel=linear;, score=0.914 total time=   0.0s\n",
      "[CV 8/10] END ...C=5, gamma=0.01, kernel=linear;, score=1.000 total time=   0.0s\n",
      "[CV 9/10] END ...C=5, gamma=0.01, kernel=linear;, score=0.971 total time=   0.0s\n",
      "[CV 10/10] END ..C=5, gamma=0.01, kernel=linear;, score=0.914 total time=   0.0s\n",
      "[CV 1/10] END .....C=5, gamma=0.001, kernel=rbf;, score=0.917 total time=   0.0s\n",
      "[CV 2/10] END .....C=5, gamma=0.001, kernel=rbf;, score=0.917 total time=   0.0s\n",
      "[CV 3/10] END .....C=5, gamma=0.001, kernel=rbf;, score=0.917 total time=   0.0s\n",
      "[CV 4/10] END .....C=5, gamma=0.001, kernel=rbf;, score=0.917 total time=   0.0s\n",
      "[CV 5/10] END .....C=5, gamma=0.001, kernel=rbf;, score=0.886 total time=   0.0s\n",
      "[CV 6/10] END .....C=5, gamma=0.001, kernel=rbf;, score=0.914 total time=   0.0s\n",
      "[CV 7/10] END .....C=5, gamma=0.001, kernel=rbf;, score=0.914 total time=   0.0s\n",
      "[CV 8/10] END .....C=5, gamma=0.001, kernel=rbf;, score=0.971 total time=   0.0s\n",
      "[CV 9/10] END .....C=5, gamma=0.001, kernel=rbf;, score=0.886 total time=   0.0s\n",
      "[CV 10/10] END ....C=5, gamma=0.001, kernel=rbf;, score=0.914 total time=   0.0s\n",
      "[CV 1/10] END ..C=5, gamma=0.001, kernel=linear;, score=0.917 total time=   0.0s\n",
      "[CV 2/10] END ..C=5, gamma=0.001, kernel=linear;, score=0.944 total time=   0.0s\n",
      "[CV 3/10] END ..C=5, gamma=0.001, kernel=linear;, score=0.944 total time=   0.0s\n",
      "[CV 4/10] END ..C=5, gamma=0.001, kernel=linear;, score=0.972 total time=   0.0s\n",
      "[CV 5/10] END ..C=5, gamma=0.001, kernel=linear;, score=0.943 total time=   0.0s\n",
      "[CV 6/10] END ..C=5, gamma=0.001, kernel=linear;, score=0.857 total time=   0.0s\n",
      "[CV 7/10] END ..C=5, gamma=0.001, kernel=linear;, score=0.914 total time=   0.0s\n",
      "[CV 8/10] END ..C=5, gamma=0.001, kernel=linear;, score=1.000 total time=   0.0s\n",
      "[CV 9/10] END ..C=5, gamma=0.001, kernel=linear;, score=0.971 total time=   0.0s\n",
      "[CV 10/10] END .C=5, gamma=0.001, kernel=linear;, score=0.914 total time=   0.0s\n",
      "[CV 1/10] END ........C=10, gamma=1, kernel=rbf;, score=0.917 total time=   0.0s\n",
      "[CV 2/10] END ........C=10, gamma=1, kernel=rbf;, score=0.944 total time=   0.0s\n",
      "[CV 3/10] END ........C=10, gamma=1, kernel=rbf;, score=0.944 total time=   0.0s\n",
      "[CV 4/10] END ........C=10, gamma=1, kernel=rbf;, score=0.917 total time=   0.0s\n",
      "[CV 5/10] END ........C=10, gamma=1, kernel=rbf;, score=0.886 total time=   0.0s\n",
      "[CV 6/10] END ........C=10, gamma=1, kernel=rbf;, score=0.943 total time=   0.0s\n",
      "[CV 7/10] END ........C=10, gamma=1, kernel=rbf;, score=0.971 total time=   0.0s\n",
      "[CV 8/10] END ........C=10, gamma=1, kernel=rbf;, score=0.857 total time=   0.0s\n",
      "[CV 9/10] END ........C=10, gamma=1, kernel=rbf;, score=0.857 total time=   0.0s\n",
      "[CV 10/10] END .......C=10, gamma=1, kernel=rbf;, score=0.914 total time=   0.0s\n",
      "[CV 1/10] END .....C=10, gamma=1, kernel=linear;, score=0.917 total time=   0.0s\n",
      "[CV 2/10] END .....C=10, gamma=1, kernel=linear;, score=0.944 total time=   0.0s\n",
      "[CV 3/10] END .....C=10, gamma=1, kernel=linear;, score=0.917 total time=   0.0s\n",
      "[CV 4/10] END .....C=10, gamma=1, kernel=linear;, score=0.972 total time=   0.0s\n",
      "[CV 5/10] END .....C=10, gamma=1, kernel=linear;, score=0.971 total time=   0.0s\n",
      "[CV 6/10] END .....C=10, gamma=1, kernel=linear;, score=0.857 total time=   0.0s\n",
      "[CV 7/10] END .....C=10, gamma=1, kernel=linear;, score=0.914 total time=   0.0s\n",
      "[CV 8/10] END .....C=10, gamma=1, kernel=linear;, score=1.000 total time=   0.0s\n",
      "[CV 9/10] END .....C=10, gamma=1, kernel=linear;, score=0.971 total time=   0.0s\n",
      "[CV 10/10] END ....C=10, gamma=1, kernel=linear;, score=0.943 total time=   0.0s\n",
      "[CV 1/10] END ......C=10, gamma=0.1, kernel=rbf;, score=0.972 total time=   0.0s\n",
      "[CV 2/10] END ......C=10, gamma=0.1, kernel=rbf;, score=0.944 total time=   0.0s\n",
      "[CV 3/10] END ......C=10, gamma=0.1, kernel=rbf;, score=0.944 total time=   0.0s\n",
      "[CV 4/10] END ......C=10, gamma=0.1, kernel=rbf;, score=0.972 total time=   0.0s\n",
      "[CV 5/10] END ......C=10, gamma=0.1, kernel=rbf;, score=0.943 total time=   0.0s\n",
      "[CV 6/10] END ......C=10, gamma=0.1, kernel=rbf;, score=0.971 total time=   0.0s\n",
      "[CV 7/10] END ......C=10, gamma=0.1, kernel=rbf;, score=0.971 total time=   0.0s\n",
      "[CV 8/10] END ......C=10, gamma=0.1, kernel=rbf;, score=1.000 total time=   0.0s\n",
      "[CV 9/10] END ......C=10, gamma=0.1, kernel=rbf;, score=0.943 total time=   0.0s\n",
      "[CV 10/10] END .....C=10, gamma=0.1, kernel=rbf;, score=0.914 total time=   0.0s\n",
      "[CV 1/10] END ...C=10, gamma=0.1, kernel=linear;, score=0.917 total time=   0.0s\n",
      "[CV 2/10] END ...C=10, gamma=0.1, kernel=linear;, score=0.944 total time=   0.0s\n",
      "[CV 3/10] END ...C=10, gamma=0.1, kernel=linear;, score=0.917 total time=   0.0s\n",
      "[CV 4/10] END ...C=10, gamma=0.1, kernel=linear;, score=0.972 total time=   0.0s\n",
      "[CV 5/10] END ...C=10, gamma=0.1, kernel=linear;, score=0.971 total time=   0.0s\n",
      "[CV 6/10] END ...C=10, gamma=0.1, kernel=linear;, score=0.857 total time=   0.0s\n",
      "[CV 7/10] END ...C=10, gamma=0.1, kernel=linear;, score=0.914 total time=   0.0s\n",
      "[CV 8/10] END ...C=10, gamma=0.1, kernel=linear;, score=1.000 total time=   0.0s\n",
      "[CV 9/10] END ...C=10, gamma=0.1, kernel=linear;, score=0.971 total time=   0.0s\n",
      "[CV 10/10] END ..C=10, gamma=0.1, kernel=linear;, score=0.943 total time=   0.0s\n",
      "[CV 1/10] END .....C=10, gamma=0.01, kernel=rbf;, score=0.944 total time=   0.0s\n",
      "[CV 2/10] END .....C=10, gamma=0.01, kernel=rbf;, score=0.944 total time=   0.0s\n",
      "[CV 3/10] END .....C=10, gamma=0.01, kernel=rbf;, score=0.944 total time=   0.0s\n",
      "[CV 4/10] END .....C=10, gamma=0.01, kernel=rbf;, score=0.972 total time=   0.0s\n",
      "[CV 5/10] END .....C=10, gamma=0.01, kernel=rbf;, score=0.943 total time=   0.0s\n",
      "[CV 6/10] END .....C=10, gamma=0.01, kernel=rbf;, score=0.914 total time=   0.0s\n",
      "[CV 7/10] END .....C=10, gamma=0.01, kernel=rbf;, score=0.914 total time=   0.0s\n",
      "[CV 8/10] END .....C=10, gamma=0.01, kernel=rbf;, score=1.000 total time=   0.0s\n",
      "[CV 9/10] END .....C=10, gamma=0.01, kernel=rbf;, score=0.914 total time=   0.0s\n",
      "[CV 10/10] END ....C=10, gamma=0.01, kernel=rbf;, score=0.943 total time=   0.0s\n",
      "[CV 1/10] END ..C=10, gamma=0.01, kernel=linear;, score=0.917 total time=   0.0s\n",
      "[CV 2/10] END ..C=10, gamma=0.01, kernel=linear;, score=0.944 total time=   0.0s\n",
      "[CV 3/10] END ..C=10, gamma=0.01, kernel=linear;, score=0.917 total time=   0.0s\n",
      "[CV 4/10] END ..C=10, gamma=0.01, kernel=linear;, score=0.972 total time=   0.0s\n",
      "[CV 5/10] END ..C=10, gamma=0.01, kernel=linear;, score=0.971 total time=   0.0s\n",
      "[CV 6/10] END ..C=10, gamma=0.01, kernel=linear;, score=0.857 total time=   0.0s\n",
      "[CV 7/10] END ..C=10, gamma=0.01, kernel=linear;, score=0.914 total time=   0.0s\n",
      "[CV 8/10] END ..C=10, gamma=0.01, kernel=linear;, score=1.000 total time=   0.0s\n",
      "[CV 9/10] END ..C=10, gamma=0.01, kernel=linear;, score=0.971 total time=   0.0s\n",
      "[CV 10/10] END .C=10, gamma=0.01, kernel=linear;, score=0.943 total time=   0.0s\n",
      "[CV 1/10] END ....C=10, gamma=0.001, kernel=rbf;, score=0.972 total time=   0.0s\n",
      "[CV 2/10] END ....C=10, gamma=0.001, kernel=rbf;, score=0.944 total time=   0.0s\n",
      "[CV 3/10] END ....C=10, gamma=0.001, kernel=rbf;, score=0.944 total time=   0.0s\n",
      "[CV 4/10] END ....C=10, gamma=0.001, kernel=rbf;, score=0.972 total time=   0.0s\n",
      "[CV 5/10] END ....C=10, gamma=0.001, kernel=rbf;, score=0.914 total time=   0.0s\n",
      "[CV 6/10] END ....C=10, gamma=0.001, kernel=rbf;, score=0.971 total time=   0.0s\n",
      "[CV 7/10] END ....C=10, gamma=0.001, kernel=rbf;, score=0.943 total time=   0.0s\n",
      "[CV 8/10] END ....C=10, gamma=0.001, kernel=rbf;, score=0.971 total time=   0.0s\n",
      "[CV 9/10] END ....C=10, gamma=0.001, kernel=rbf;, score=0.943 total time=   0.0s\n",
      "[CV 10/10] END ...C=10, gamma=0.001, kernel=rbf;, score=0.914 total time=   0.0s\n",
      "[CV 1/10] END .C=10, gamma=0.001, kernel=linear;, score=0.917 total time=   0.0s\n",
      "[CV 2/10] END .C=10, gamma=0.001, kernel=linear;, score=0.944 total time=   0.0s\n",
      "[CV 3/10] END .C=10, gamma=0.001, kernel=linear;, score=0.917 total time=   0.0s\n",
      "[CV 4/10] END .C=10, gamma=0.001, kernel=linear;, score=0.972 total time=   0.0s\n",
      "[CV 5/10] END .C=10, gamma=0.001, kernel=linear;, score=0.971 total time=   0.0s\n",
      "[CV 6/10] END .C=10, gamma=0.001, kernel=linear;, score=0.857 total time=   0.0s\n",
      "[CV 7/10] END .C=10, gamma=0.001, kernel=linear;, score=0.914 total time=   0.0s\n",
      "[CV 8/10] END .C=10, gamma=0.001, kernel=linear;, score=1.000 total time=   0.0s\n",
      "[CV 9/10] END .C=10, gamma=0.001, kernel=linear;, score=0.971 total time=   0.0s\n",
      "[CV 10/10] END C=10, gamma=0.001, kernel=linear;, score=0.943 total time=   0.0s\n"
     ]
    },
    {
     "data": {
      "text/plain": [
       "GridSearchCV(cv=10, estimator=SVC(),\n",
       "             param_grid={'C': [0.1, 0.5, 1, 5, 10],\n",
       "                         'gamma': [1, 0.1, 0.01, 0.001],\n",
       "                         'kernel': ['rbf', 'linear']},\n",
       "             verbose=3)"
      ]
     },
     "execution_count": 26,
     "metadata": {},
     "output_type": "execute_result"
    }
   ],
   "source": [
    "ap_param = {'C': [0.1,0.5, 1, 5, 10],\n",
    "            'gamma': [1,0.1,0.01,0.001],'kernel': ['rbf', 'linear']}\n",
    "\n",
    "ap_SVM=svm.SVC()\n",
    "ap_grid = GridSearchCV(estimator=ap_SVM,param_grid=ap_param,verbose=3,cv=10)\n",
    "         \n",
    "ap_grid.fit(ap_X_train, ap_y_train)"
   ]
  },
  {
   "cell_type": "code",
   "execution_count": 27,
   "id": "97443028",
   "metadata": {
    "ExecuteTime": {
     "end_time": "2023-02-13T04:51:48.762509Z",
     "start_time": "2023-02-13T04:51:48.760277Z"
    },
    "scrolled": true
   },
   "outputs": [
    {
     "data": {
      "text/plain": [
       "{'C': 10, 'gamma': 0.1, 'kernel': 'rbf'}"
      ]
     },
     "execution_count": 27,
     "metadata": {},
     "output_type": "execute_result"
    }
   ],
   "source": [
    "ap_grid.best_params_"
   ]
  },
  {
   "cell_type": "code",
   "execution_count": 28,
   "id": "306aa619",
   "metadata": {
    "ExecuteTime": {
     "end_time": "2023-02-13T04:51:48.769402Z",
     "start_time": "2023-02-13T04:51:48.765997Z"
    }
   },
   "outputs": [
    {
     "data": {
      "text/plain": [
       "0.9605263157894737"
      ]
     },
     "execution_count": 28,
     "metadata": {},
     "output_type": "execute_result"
    }
   ],
   "source": [
    "ap_grid.score(ap_X_val,ap_y_val)"
   ]
  },
  {
   "cell_type": "code",
   "execution_count": null,
   "id": "decdc725",
   "metadata": {},
   "outputs": [],
   "source": []
  }
 ],
 "metadata": {
  "kernelspec": {
   "display_name": "Python 3 (ipykernel)",
   "language": "python",
   "name": "python3"
  },
  "language_info": {
   "codemirror_mode": {
    "name": "ipython",
    "version": 3
   },
   "file_extension": ".py",
   "mimetype": "text/x-python",
   "name": "python",
   "nbconvert_exporter": "python",
   "pygments_lexer": "ipython3",
   "version": "3.9.12"
  }
 },
 "nbformat": 4,
 "nbformat_minor": 5
}
